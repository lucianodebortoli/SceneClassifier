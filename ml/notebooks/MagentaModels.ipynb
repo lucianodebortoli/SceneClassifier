{
 "cells": [
  {
   "cell_type": "code",
   "execution_count": 1,
   "metadata": {},
   "outputs": [],
   "source": [
    "import tensorflow as tf\n",
    "import magenta_model as mm"
   ]
  },
  {
   "cell_type": "code",
   "execution_count": 2,
   "metadata": {},
   "outputs": [],
   "source": [
    "def convert(model, name=\"model.tflite\"):\n",
    "    converter = tf.lite.TFLiteConverter.from_keras_model(model)\n",
    "    tflite_model = converter.convert()\n",
    "    open(name,'wb').write(tflite_model)\n",
    "    \n",
    "def num_frames(duration, sample_rate, win_size, hop_size):\n",
    "    return int(1 + (duration * sample_rate - win_size)/ hop_size)\n",
    "\n",
    "def total_samples(frames, hop_size, win_size):\n",
    "    return int((frames - 1)*hop_size + win_size)"
   ]
  },
  {
   "cell_type": "code",
   "execution_count": 3,
   "metadata": {},
   "outputs": [
    {
     "name": "stdout",
     "output_type": "stream",
     "text": [
      "Model: \"model\"\n",
      "__________________________________________________________________________________________________\n",
      "Layer (type)                    Output Shape         Param #     Connected to                     \n",
      "==================================================================================================\n",
      "input (InputLayer)              [(1, 2048)]          0                                            \n",
      "__________________________________________________________________________________________________\n",
      "tf_op_layer_Mul (TensorFlowOpLa [(1, 2048)]          0           input[0][0]                      \n",
      "__________________________________________________________________________________________________\n",
      "tf_op_layer_Pad (TensorFlowOpLa [(1, 2048)]          0           tf_op_layer_Mul[0][0]            \n",
      "__________________________________________________________________________________________________\n",
      "tf_op_layer_MatMul (TensorFlowO [(1, 1025)]          0           tf_op_layer_Pad[0][0]            \n",
      "__________________________________________________________________________________________________\n",
      "tf_op_layer_MatMul_1 (TensorFlo [(1, 1025)]          0           tf_op_layer_Pad[0][0]            \n",
      "__________________________________________________________________________________________________\n",
      "tf_op_layer_Mul_1 (TensorFlowOp [(1, 1025)]          0           tf_op_layer_MatMul[0][0]         \n",
      "                                                                 tf_op_layer_MatMul[0][0]         \n",
      "__________________________________________________________________________________________________\n",
      "tf_op_layer_Mul_2 (TensorFlowOp [(1, 1025)]          0           tf_op_layer_MatMul_1[0][0]       \n",
      "                                                                 tf_op_layer_MatMul_1[0][0]       \n",
      "__________________________________________________________________________________________________\n",
      "tf_op_layer_Add (TensorFlowOpLa [(1, 1025)]          0           tf_op_layer_Mul_1[0][0]          \n",
      "                                                                 tf_op_layer_Mul_2[0][0]          \n",
      "__________________________________________________________________________________________________\n",
      "tf_op_layer_magnitude_spectrum  [(1, 1025)]          0           tf_op_layer_Add[0][0]            \n",
      "__________________________________________________________________________________________________\n",
      "tf_op_layer_MatMul_2 (TensorFlo [(1, 128)]           0           tf_op_layer_magnitude_spectrum[0]\n",
      "__________________________________________________________________________________________________\n",
      "tf_op_layer_AddV2 (TensorFlowOp [(1, 128)]           0           tf_op_layer_MatMul_2[0][0]       \n",
      "__________________________________________________________________________________________________\n",
      "tf_op_layer_log_scale (TensorFl [(1, 128)]           0           tf_op_layer_AddV2[0][0]          \n",
      "==================================================================================================\n",
      "Total params: 0\n",
      "Trainable params: 0\n",
      "Non-trainable params: 0\n",
      "__________________________________________________________________________________________________\n"
     ]
    }
   ],
   "source": [
    "model = mm.waveform_to_melspectrum(win_size=2048, fft_size=2048, mels=128)\n",
    "convert(model,\"melspectrum.tflite\")\n",
    "model.summary()"
   ]
  },
  {
   "cell_type": "code",
   "execution_count": 4,
   "metadata": {},
   "outputs": [
    {
     "name": "stdout",
     "output_type": "stream",
     "text": [
      "input_shape: (1, 1, 132096)\n",
      "Model: \"model_1\"\n",
      "__________________________________________________________________________________________________\n",
      "Layer (type)                    Output Shape         Param #     Connected to                     \n",
      "==================================================================================================\n",
      "input (InputLayer)              [(1, 1, 132096)]     0                                            \n",
      "__________________________________________________________________________________________________\n",
      "tf_op_layer_Slice (TensorFlowOp [(1, 1, 132096)]     0           input[0][0]                      \n",
      "__________________________________________________________________________________________________\n",
      "tf_op_layer_Reshape (TensorFlow [(1, 1, 129, 1024)]  0           tf_op_layer_Slice[0][0]          \n",
      "__________________________________________________________________________________________________\n",
      "tf_op_layer_GatherV2 (TensorFlo [(1, 1, 128, 2, 1024 0           tf_op_layer_Reshape[0][0]        \n",
      "__________________________________________________________________________________________________\n",
      "tf_op_layer_Reshape_1 (TensorFl [(1, 1, 128, 2048)]  0           tf_op_layer_GatherV2[0][0]       \n",
      "__________________________________________________________________________________________________\n",
      "tf_op_layer_Mul_3 (TensorFlowOp [(1, 1, 128, 2048)]  0           tf_op_layer_Reshape_1[0][0]      \n",
      "__________________________________________________________________________________________________\n",
      "tf_op_layer_Pad_1 (TensorFlowOp [(1, 1, 128, 2048)]  0           tf_op_layer_Mul_3[0][0]          \n",
      "__________________________________________________________________________________________________\n",
      "tf_op_layer_BatchMatMulV2 (Tens [(1, 1, 128, 1025)]  0           tf_op_layer_Pad_1[0][0]          \n",
      "__________________________________________________________________________________________________\n",
      "tf_op_layer_BatchMatMulV2_1 (Te [(1, 1, 128, 1025)]  0           tf_op_layer_Pad_1[0][0]          \n",
      "__________________________________________________________________________________________________\n",
      "tf_op_layer_Mul_4 (TensorFlowOp [(1, 1, 128, 1025)]  0           tf_op_layer_BatchMatMulV2[0][0]  \n",
      "                                                                 tf_op_layer_BatchMatMulV2[0][0]  \n",
      "__________________________________________________________________________________________________\n",
      "tf_op_layer_Mul_5 (TensorFlowOp [(1, 1, 128, 1025)]  0           tf_op_layer_BatchMatMulV2_1[0][0]\n",
      "                                                                 tf_op_layer_BatchMatMulV2_1[0][0]\n",
      "__________________________________________________________________________________________________\n",
      "tf_op_layer_Add_1 (TensorFlowOp [(1, 1, 128, 1025)]  0           tf_op_layer_Mul_4[0][0]          \n",
      "                                                                 tf_op_layer_Mul_5[0][0]          \n",
      "__________________________________________________________________________________________________\n",
      "tf_op_layer_magnitude_spectrogr [(1, 1, 128, 1025)]  0           tf_op_layer_Add_1[0][0]          \n",
      "__________________________________________________________________________________________________\n",
      "tf_op_layer_BatchMatMulV2_2 (Te [(1, 1, 128, 128)]   0           tf_op_layer_magnitude_spectrogram\n",
      "==================================================================================================\n",
      "Total params: 0\n",
      "Trainable params: 0\n",
      "Non-trainable params: 0\n",
      "__________________________________________________________________________________________________\n"
     ]
    }
   ],
   "source": [
    "tflite_batchsize = 1\n",
    "input_shape = (1, total_samples(128, 1024, 2048))\n",
    "x = tf.keras.layers.Input(batch_shape=(tflite_batchsize, ) + tuple(input_shape), dtype='float32', name='input')\n",
    "print(\"input_shape:\",x.shape)\n",
    "y = mm.waveform_to_mel_spectrogram(x, sample_rate=48000, win_hop=1024, win_length=2048, fft_size=2048, num_mel_bins=128, lower_edge_hertz=80, upper_edge_hertz=20000)\n",
    "model = tf.keras.Model(inputs=x, outputs=[y])\n",
    "convert(model,\"melspectrogram.tflite\")\n",
    "model.summary()"
   ]
  }
 ],
 "metadata": {
  "kernelspec": {
   "display_name": "Python 3",
   "language": "python",
   "name": "python3"
  },
  "language_info": {
   "codemirror_mode": {
    "name": "ipython",
    "version": 3
   },
   "file_extension": ".py",
   "mimetype": "text/x-python",
   "name": "python",
   "nbconvert_exporter": "python",
   "pygments_lexer": "ipython3",
   "version": "3.7.7"
  }
 },
 "nbformat": 4,
 "nbformat_minor": 4
}
