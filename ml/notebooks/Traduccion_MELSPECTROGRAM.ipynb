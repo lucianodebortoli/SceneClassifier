{
 "cells": [
  {
   "cell_type": "markdown",
   "metadata": {},
   "source": [
    "# ESPECTROGRAMA MEL\n",
    "## Traducción de Python a JAVA\n",
    "#### Luciano De Bortoli | Ingeniería de Sonido\n",
    "<img src=\"logo.jpg\" alt=\"Drawing\" align=\"left\" style=\"width: 300px;\"/>"
   ]
  },
  {
   "cell_type": "code",
   "execution_count": 1,
   "metadata": {},
   "outputs": [],
   "source": [
    "import numpy as np\n",
    "import matplotlib.pyplot as plt\n",
    "import librosa\n",
    "import librosa.display\n",
    "import math"
   ]
  },
  {
   "cell_type": "markdown",
   "metadata": {},
   "source": [
    "El fin es desarrollar una versión simplificada del código fuente usado en la función melspectrogram del paquete de librosa.\n",
    "https://librosa.github.io/librosa/_modules/librosa/feature/spectral.html#melspectrogram"
   ]
  },
  {
   "cell_type": "markdown",
   "metadata": {},
   "source": [
    "Se utiliza una señal cualquiera para aplicar las funciones"
   ]
  },
  {
   "cell_type": "code",
   "execution_count": 6,
   "metadata": {},
   "outputs": [
    {
     "name": "stdout",
     "output_type": "stream",
     "text": [
      "Full duration:  10.0  s\n",
      "Buffer duration:  2.752  s\n"
     ]
    }
   ],
   "source": [
    "# Load Chirp Audio\n",
    "file= \"validation_data\\\\metroMelSpec\"\n",
    "filepath = file + \".wav\"\n",
    "source_stereo = True\n",
    "y, fs = librosa.core.load(filepath, mono=False, sr=48000)\n",
    "audio_duration=len(y)/fs\n",
    "if source_stereo:\n",
    "    y = (y[0,:]+y[1,:])/2\n",
    "print (\"Full duration: \", np.shape(y)[0]/48000, \" s\")\n",
    "\n",
    "# Crop Audio:\n",
    "bufferSamples = (128*1024+1024) # buffer de audio necesario para obtener n_mels segmentos temporales\n",
    "buffer = y[0:bufferSamples]\n",
    "print (\"Buffer duration: \", np.shape(buffer)[0]/48000, \" s\")"
   ]
  },
  {
   "cell_type": "markdown",
   "metadata": {},
   "source": [
    "Se definen los parámetros que se utilizan para el melespectrograma, segun los argumentos de la función del módulo librosa."
   ]
  },
  {
   "cell_type": "code",
   "execution_count": 7,
   "metadata": {},
   "outputs": [],
   "source": [
    "# Parameters inputs\n",
    "y=buffer; sr=48000; n_fft=2048; hop_length=1024; power=2.0; n_mels=128; fmin=0.0; fmax=20000; htk=False; norm=1"
   ]
  },
  {
   "cell_type": "markdown",
   "metadata": {},
   "source": [
    "Se calcula el espectrograma lineal utilizando la función spectrum de librosa"
   ]
  },
  {
   "cell_type": "code",
   "execution_count": 4,
   "metadata": {},
   "outputs": [
    {
     "name": "stdout",
     "output_type": "stream",
     "text": [
      "(1025, 130)\n"
     ]
    }
   ],
   "source": [
    "# Linear Spectrogram\n",
    "S, n_fft = librosa.core.spectrum._spectrogram(y=y, n_fft=n_fft, hop_length=hop_length,power=power)\n",
    "print(np.shape(S))"
   ]
  },
  {
   "cell_type": "markdown",
   "metadata": {},
   "source": [
    "Luego sobre este espectrograma lineal, se aplica la funcion melespectrograma de librosa, que lo convierte en escala Mel."
   ]
  },
  {
   "cell_type": "code",
   "execution_count": null,
   "metadata": {},
   "outputs": [],
   "source": [
    "librosa.feature.melspectrogram(y=y, sr=sr, S=S, n_fft=n_fft, hop_length=hop_length)"
   ]
  },
  {
   "cell_type": "markdown",
   "metadata": {},
   "source": [
    "Esta función internamente utiliza varias funciones pertenecientes a librosa, numpy y scipy, entre otras.\n",
    "Para la traducción a de melspectrogram() a JAVA es necesario traducir las funciones internas también. En la celda a continuación se recopilan y ensamblan todas las funciones internas escritas en python. Esta versión ejecuta los mismos procesos que al llamar la función melspectrogram()"
   ]
  },
  {
   "cell_type": "code",
   "execution_count": 5,
   "metadata": {},
   "outputs": [],
   "source": [
    "# Mel spectrogram (VERSION LARGA COMPLETA ORIGINAL)\n",
    "\n",
    "# Set Fmax\n",
    "if fmax is None:\n",
    "    fmax = float(sr) / 2\n",
    "# Set Normalization\n",
    "if norm is not None and norm != 1 and norm != np.inf:\n",
    "    raise ParameterError('Unsupported norm: {}'.format(repr(norm)))\n",
    "# Initialize the weights\n",
    "n_mels = int(n_mels)\n",
    "weights = np.zeros((n_mels, int(1 + n_fft // 2)))\n",
    "# Center freqs of each FFT bin\n",
    "fftfreqs = np.linspace(0, float(sr) / 2, int(1 + n_fft//2),endpoint=True)\n",
    "# 'Center freqs' of mel bands - uniformly spaced between limits\n",
    "n_mels_aux=n_mels + 2\n",
    "\n",
    "#hz to mel fmin\n",
    "frequencies = np.asanyarray(fmin)\n",
    "if htk:\n",
    "    max_mel = 2595.0 * np.log10(1.0 + frequencies / 700.0)\n",
    "# Fill in the linear part\n",
    "f_min = 0.0\n",
    "f_sp = 200.0 / 3\n",
    "mels_min = (frequencies - f_min) / f_sp\n",
    "# Fill in the log-scale part\n",
    "min_log_hz = 1000.0                         # beginning of log region (Hz)\n",
    "min_log_mel = (min_log_hz - f_min) / f_sp   # same (Mels)\n",
    "logstep = np.log(6.4) / 27.0                # step size for log region\n",
    "if frequencies.ndim:\n",
    "    # If we have array data, vectorize\n",
    "    log_t = (frequencies >= min_log_hz)\n",
    "    mels_min[log_t] = min_log_mel + np.log(frequencies[log_t]/min_log_hz) / logstep\n",
    "elif frequencies >= min_log_hz:\n",
    "    # If we have scalar data, heck directly\n",
    "    mels_min = min_log_mel + np.log(frequencies / min_log_hz) / logstep\n",
    "min_mel = mels_min\n",
    "\n",
    "#hz to mel fmax\n",
    "frequencies = np.asanyarray(fmax)\n",
    "if htk:\n",
    "    max_mel = 2595.0 * np.log10(1.0 + frequencies / 700.0)\n",
    "# Fill in the linear part\n",
    "f_min = 0.0\n",
    "f_sp = 200.0 / 3\n",
    "mels_max = (frequencies - f_min) / f_sp\n",
    "# Fill in the log-scale part\n",
    "min_log_hz = 1000.0                         # beginning of log region (Hz)\n",
    "min_log_mel = (min_log_hz - f_min) / f_sp   # same (Mels)\n",
    "logstep = np.log(6.4) / 27.0                # step size for log region\n",
    "if frequencies.ndim:\n",
    "    # If we have array data, vectorize\n",
    "    log_t = (frequencies >= min_log_hz)\n",
    "    mels_max[log_t] = min_log_mel + np.log(frequencies[log_t]/min_log_hz) / logstep\n",
    "elif frequencies >= min_log_hz:\n",
    "    # If we have scalar data, heck directly\n",
    "    mels_max = min_log_mel + np.log(frequencies / min_log_hz) / logstep\n",
    "max_mel = mels_max\n",
    "\n",
    "# find mel_frequencies\n",
    "mels = np.asanyarray(np.linspace(min_mel, max_mel, n_mels_aux))\n",
    "if htk:\n",
    "    freqs = 700.0 * (10.0**(mels / 2595.0) - 1.0)\n",
    "# Fill in the linear scale\n",
    "f_min = 0.0\n",
    "f_sp = 200.0 / 3\n",
    "freqs = f_min + f_sp * mels\n",
    "# And now the nonlinear scale\n",
    "min_log_hz = 1000.0                         # beginning of log region (Hz)\n",
    "min_log_mel = (min_log_hz - f_min) / f_sp   # same (Mels)\n",
    "logstep = np.log(6.4) / 27.0                # step size for log region\n",
    "if mels.ndim:\n",
    "    # If we have vector data, vectorize\n",
    "    log_t = (mels >= min_log_mel)\n",
    "    freqs[log_t] = min_log_hz * np.exp(logstep * (mels[log_t] - min_log_mel))\n",
    "elif mels >= min_log_mel:\n",
    "    # If we have scalar data, check directly\n",
    "    freqs = min_log_hz * np.exp(logstep * (mels - min_log_mel))\n",
    "\n",
    "# Triangular Filter\n",
    "fdiff = np.diff(freqs)\n",
    "ramps = np.subtract.outer(freqs, fftfreqs)\n",
    "for i in range(n_mels):\n",
    "    # lower and upper slopes for all bins\n",
    "    lower = -ramps[i] / fdiff[i]\n",
    "    upper = ramps[i+2] / fdiff[i+1]\n",
    "    # .. then intersect them with each other and zero\n",
    "    weights[i] = np.maximum(0, np.minimum(lower, upper))\n",
    "\n",
    "if norm == 1:\n",
    "    # Slaney-style mel is scaled to be approx constant energy per channel\n",
    "    enorm = 2.0 / (freqs[2:n_mels+2] - freqs[:n_mels])\n",
    "    weights *= enorm[:, np.newaxis]\n",
    "# Only check weights if f_mel[0] is positive\n",
    "if not np.all((freqs[:-2] == 0) | (weights.max(axis=1) > 0)):\n",
    "    # This means we have an empty channel somewhere\n",
    "    warnings.warn('Empty filters detected in mel frequency basis. '\n",
    "                  'Some channels will produce empty responses. '\n",
    "                  'Try increasing your sampling rate (and fmax) or '\n",
    "                  'reducing n_mels.')\n",
    "\n",
    "melspectrogram_original = np.dot(weights, S)\n",
    "\n",
    "S_dB = librosa.power_to_db(melspectrogram_original,ref=np.max)"
   ]
  },
  {
   "cell_type": "markdown",
   "metadata": {},
   "source": [
    "Debido que se encuentra escrita en python, es necesario modificar la sintaxis y varios métodos para simplificar la traducción a JAVA. La celda a continuación muestra el código simplificado, utilizando ciclos for en lugar de las sintaxis reducidas de python."
   ]
  },
  {
   "cell_type": "code",
   "execution_count": null,
   "metadata": {},
   "outputs": [],
   "source": [
    "# Mel spectrogram (MI VERSION REDUCIDA ADAPTADA PARA JAVA)\n",
    "\n",
    "# Fill in the linear scale *(below 1KHz)\n",
    "max_mel = (1000.0) / (200.0 / 3) + np.log(fmax / 1000.0) / (np.log(6.4) / 27.0)\n",
    "mels = np.linspace(0, max_mel, n_mels + 2)\n",
    "\n",
    "# Fill the nonlinear scale *(above 1KHz) \n",
    "freqs = (200.0 / 3) * mels \n",
    "for i in range(0,len(mels)):\n",
    "    if mels[i] >= (1000) / (200.0 / 3):\n",
    "        freqs[i] = 1000 * np.exp((np.log(6.4) / 27) * (mels[i] - (1000) / (200.0 / 3)))\n",
    "\n",
    "# Triangular Filter:  Center freqs of each FFT bin\n",
    "fftfreqs = np.linspace(0, float(sr) / 2, int(1 + n_fft//2)) \n",
    "ramps = np.empty([len(freqs),len(fftfreqs)])\n",
    "for i in range(len(freqs)):\n",
    "    for j in range(len(fftfreqs)):\n",
    "        ramps[i,j] = freqs[i]-fftfreqs[j]\n",
    "\n",
    "# lower and upper slopes for all bins.\n",
    "fdiff = np.zeros(len(freqs)-1)\n",
    "for i in range(0, len(freqs)-1):\n",
    "    fdiff[i] = freqs[i+1]-freqs[i]\n",
    "\n",
    "# Get the weights    \n",
    "weights = np.zeros((n_mels, int(1 + n_fft / 2)))\n",
    "lower=np.zeros(int(1 + n_fft / 2))\n",
    "upper=np.zeros(int(1 + n_fft / 2))\n",
    "for m in range(0,n_mels):\n",
    "    for k in range(0, int(1 + n_fft / 2)):\n",
    "        weights[m,k] = np.maximum(0, np.minimum(-ramps[m,k] / fdiff[m],ramps[m+2,k] / fdiff[m+1]))\n",
    "\n",
    "# Slaney-style mel is scaled to be approx constant energy per channel\n",
    "norm_weights = np.zeros([n_mels,int (1 + n_fft / 2)])\n",
    "for i in range(0,n_mels):\n",
    "    for j in range(int (1 + n_fft / 2)):\n",
    "        norm_weights[i,j] = weights[i,j] * (2.0 / (freqs[i+2] - freqs[i]))\n",
    "\n",
    "# Apply filters to Linear spectrogram\n",
    "melspectrogram = np.dot(norm_weights, S)"
   ]
  },
  {
   "cell_type": "markdown",
   "metadata": {},
   "source": [
    "Esta versión reducida tiene la misma funcionalidad que la celda anterior, como se verifica al hacer la resta."
   ]
  },
  {
   "cell_type": "code",
   "execution_count": 8,
   "metadata": {},
   "outputs": [
    {
     "data": {
      "text/plain": [
       "array([[0., 0., 0., ..., 0., 0., 0.],\n",
       "       [0., 0., 0., ..., 0., 0., 0.],\n",
       "       [0., 0., 0., ..., 0., 0., 0.],\n",
       "       ...,\n",
       "       [0., 0., 0., ..., 0., 0., 0.],\n",
       "       [0., 0., 0., ..., 0., 0., 0.],\n",
       "       [0., 0., 0., ..., 0., 0., 0.]])"
      ]
     },
     "execution_count": 8,
     "metadata": {},
     "output_type": "execute_result"
    }
   ],
   "source": [
    "# verificar igualdad melspectrograma\n",
    "melspectrogram_original - melspectrogram"
   ]
  },
  {
   "cell_type": "markdown",
   "metadata": {},
   "source": [
    "Accediendo a las funciones que generan los filtros triangulares, es posible graficarlos."
   ]
  },
  {
   "cell_type": "code",
   "execution_count": 7,
   "metadata": {},
   "outputs": [
    {
     "name": "stdout",
     "output_type": "stream",
     "text": [
      "Filters:  128\n",
      "Size:  1025\n"
     ]
    },
    {
     "data": {
      "image/png": "[encoded data removed]",
      "text/plain": [
       "<Figure size 864x288 with 1 Axes>"
      ]
     },
     "metadata": {
      "needs_background": "light"
     },
     "output_type": "display_data"
    }
   ],
   "source": [
    "# PLOT TRIANGULAR FILTERS\n",
    "plt.figure(figsize = (12,4))\n",
    "plt.xscale('linear')\n",
    "for i in range(0,len(weights)):\n",
    "    plt.plot(fftfreqs, norm_weights[i])\n",
    "plt.title('Filtros Triangulares de Escala Mel')\n",
    "plt.xlabel('Frecuencia [Hz]')\n",
    "plt.ylabel('Ganancia')\n",
    "plt.xlim([0-0.05*fmax,fmax*1.05])\n",
    "plt.savefig('Filtros Triangulares de Escala Mel',dpi=300)\n",
    "print(\"Filters: \",len(norm_weights))"
   ]
  },
  {
   "cell_type": "markdown",
   "metadata": {},
   "source": [
    "Los espectrogramas que se utilizan en esta tesis se convierten a decibeles y además, la matriz resultante se da vuelta verticalmente (flip-ud).\n",
    "Para lo que se usan las funciones power_to_db() de librosa y np.flipup() de numpy. Las cuales también deben ser simplificadas, como se muestra a continuación."
   ]
  },
  {
   "cell_type": "code",
   "execution_count": 9,
   "metadata": {},
   "outputs": [],
   "source": [
    "# CUSTOM #power to db. Convert a power spectrogram (amplitude squared) to decibel (dB) units. computes 10 * log10(S / ref)\n",
    "# Initialize Magnitude Matrix\n",
    "magnitude = np.zeros([np.shape(S)[0],np.shape(S)[1]])\n",
    "\n",
    "# Convert Magnitude to Log and find ref_value\n",
    "ref = S[0,0]\n",
    "for i in range(0,np.shape(S)[0]):\n",
    "    for j in range(0,np.shape(S)[1]):\n",
    "        magnitude[i,j] = 10.0 * np.log10(np.maximum(1e-10, S[i,j]))\n",
    "        ref = np.maximum(ref,S[i,j])\n",
    "\n",
    "# Convert ref_value to Log and find max Magnitude\n",
    "ref = 10.0 * np.log10(np.maximum(1e-10, ref))\n",
    "magmax = magnitude[0,0] - ref\n",
    "for i in range(0,np.shape(S)[0]):\n",
    "    for j in range(0,np.shape(S)[1]):\n",
    "        magnitude[i,j] = magnitude[i,j] - ref\n",
    "        magmax = np.maximum(magmax, magnitude[i,j])\n",
    "\n",
    "# Get Spectrogram in dB\n",
    "for i in range(0,np.shape(S)[0]):\n",
    "    for j in range(0,np.shape(S)[1]):\n",
    "        magnitude[i,j] = np.maximum(magnitude[i,j], (magmax - 80.0))\n",
    "        \n",
    "S_dB_custom = magnitude"
   ]
  },
  {
   "cell_type": "code",
   "execution_count": 10,
   "metadata": {},
   "outputs": [],
   "source": [
    "# CUSTOM  #flip\n",
    "S_dB_flip = np.zeros([np.shape(S_dB)[0],np.shape(S_dB)[1]])\n",
    "for i in range(0,np.shape(S_dB)[0]):\n",
    "    for j in range(0,np.shape(S_dB)[1]):\n",
    "        S_dB_flip[i,j] = S_dB[(np.shape(S_dB)[0]-1-i),j]"
   ]
  },
  {
   "cell_type": "markdown",
   "metadata": {},
   "source": [
    "Una vez simplificados todos los métodos utilizados para el computo de espectrogramas, se traduce a JAVA, como se muestra a continuación."
   ]
  },
  {
   "cell_type": "code",
   "execution_count": null,
   "metadata": {},
   "outputs": [],
   "source": [
    "% JAVA\n",
    "private float[][] melFilterBank(){\n",
    "        int fMax = 20000;\n",
    "        int nFreqs = 1 + fftSize / 2;\n",
    "        // Fill in the linear scale *(below 1KHz);\n",
    "        float max_mel = (float)\n",
    "                ((1000.0)/(200.0f / 3.0f) + Math.log(fMax/1000.0f)/(Math.log(6.4f)/27.0f));\n",
    "        float min_mel = 0.0f;\n",
    "        float[] mels = linSpace(min_mel, max_mel, nMels+2);\n",
    "        float[] freqs = new float[nMels+2];\n",
    "        for (int i=0; i< nMels+2; i++) { freqs[i] = (200.0f/3.0f) * mels[i];}\n",
    "        // Fill the nonlinear scale *(above 1KHz) ;\n",
    "        for (int i=0; i<nMels+2; i++) {\n",
    "            if (mels[i] >= (1000) / (200.0 / 3)) {\n",
    "                freqs[i] =(float)\n",
    "                        (1000.0*Math.exp((Math.log(6.4)/27.0)*(mels[i]-(1000.0)/(200.0/3.0))));}}\n",
    "        // Triangular Filter:  Center freqs of each FFT bin;\n",
    "        float[] fftFreqs = linSpace(0, ((float)sampleRate) / 2, nFreqs);\n",
    "        float[][] ramps = new float[nMels+2][nFreqs];\n",
    "        for (int i=0; i< nMels+2; i++) {\n",
    "            for (int j=0; j < nFreqs; j++) {\n",
    "                ramps[i][j]= freqs[i] - fftFreqs[j];}}\n",
    "        // lower and upper slopes for all bins.;\n",
    "        float[] fdiff = new float[nMels+1];\n",
    "        for (int i=0; i<nMels+1; i++ ) {  fdiff[i] = freqs[i+1]-freqs[i]; }\n",
    "        // Get the weights;\n",
    "        float[][] weights = new float[nMels][nFreqs];\n",
    "        for (int m=0; m < nMels; m++ ) {\n",
    "            for (int k=0; k < nFreqs; k++) {\n",
    "                weights[m][k] = (float) Math.max(\n",
    "                        0, Math.min((-1.0)*ramps[m][k]/fdiff[m],ramps[m+2][k]/fdiff[m+1]));}}\n",
    "        // Slaney-style mel is scaled to be approx constant energy per channel;\n",
    "        float[][] norm_weights = new float[nMels][nFreqs];\n",
    "        for (int i=0; i< nMels; i++) {\n",
    "            for (int j=0; j<nFreqs; j++ ) {\n",
    "                norm_weights[i][j] = weights[i][j] * (2.0f / (freqs[i+2] - freqs[i]));}}\n",
    "        return norm_weights;\n",
    "    }\n",
    "\n",
    "    private float[][] power_to_db(float[][] S) {\n",
    "        float[][] magnitude = new float[S.length][S[0].length];\n",
    "        // Calculate Magnitude and Reference:\n",
    "        float ref = S[0][0];\n",
    "        for (int i=0; i< S.length; i++) {\n",
    "            for (int j=0; j< S[0].length; j++) {\n",
    "                magnitude[i][j] = (float)(10.0f * Math.log10(Math.max(1e-10, S[i][j])));\n",
    "                ref = Math.max(ref,S[i][j]);}}\n",
    "        // Convert Log:\n",
    "        ref = (float) (10.0f * Math.log10(Math.max(1e-10, ref)));\n",
    "        float magmax = magnitude[0][0] - ref;\n",
    "        for (int i=0; i< S.length; i++) {\n",
    "            for (int j=0; j< S[0].length; j++) {\n",
    "                magnitude[i][j] = magnitude[i][j] - ref;\n",
    "                magmax = Math.max(magmax, magnitude[i][j]);}}\n",
    "        // Get Spectrogram in dB\n",
    "        for (int i=0; i< S.length; i++) {\n",
    "            for (int j=0; j< S[0].length; j++) {\n",
    "                magnitude[i][j] = (float)(Math.max(magnitude[i][j], (magmax - 80.0)));}}\n",
    "        return magnitude;\n",
    "    }\n",
    "\n",
    "    private float[][] flipUD(float[][] spec){\n",
    "        float[][] spectrogramFlipped = new float[nMels][frames];\n",
    "        for (int i=0; i< nMels; i++) {\n",
    "                System.arraycopy(spec[(nMels-1-i)], 0, spectrogramFlipped[i], 0, frames);\n",
    "        }\n",
    "        return spectrogramFlipped;\n",
    "    }"
   ]
  },
  {
   "cell_type": "markdown",
   "metadata": {},
   "source": [
    "En la celda a continuación simplemente se muestra una forma más simplificada de definir la fórmula para la escala Mel. La cual es idéntica para números con precisión de 32 bit (float)."
   ]
  },
  {
   "cell_type": "code",
   "execution_count": 17,
   "metadata": {},
   "outputs": [
    {
     "name": "stdout",
     "output_type": "stream",
     "text": [
      "max_mel: SAME\n",
      "aux_mels: SAME\n",
      "aux_freqs: FALSE by: 1.1027623258996755e-10\n"
     ]
    }
   ],
   "source": [
    "# MEL SCALE FORMULA:\n",
    "\n",
    "# ORIGINAL\n",
    "# Fill in the linear scale *(below 1KHz)\n",
    "max_mel = (1000.0) / (200.0 / 3) + np.log(fmax / 1000.0) / (np.log(6.4) / 27.0)\n",
    "mels = np.linspace(0, max_mel, n_mels + 2)\n",
    "# Fill the nonlinear scale *(above 1KHz) \n",
    "freqs = (200.0 / 3) * mels \n",
    "for i in range(0,len(mels)):\n",
    "    if mels[i] >= (1000) / (200.0 / 3):\n",
    "        freqs[i] = 1000 * np.exp((np.log(6.4) / 27) * (mels[i] - (1000) / (200.0 / 3)))\n",
    "        \n",
    "# CUSTOM\n",
    "# Find max mel:\n",
    "aux_max_mel = (15+27*math.log(fmax/1000, 6.4))\n",
    "# Build linear space:\n",
    "aux_mels = np.linspace(0, aux_max_mel, n_mels + 2) \n",
    "# Fill & Scale linear and log space.\n",
    "aux_freqs = np.zeros([len(aux_mels)])\n",
    "for i in range(0,len(aux_mels)):\n",
    "    if aux_mels[i] >= 15:\n",
    "        aux_freqs[i] = (1000 * np.power(6.4,(aux_mels[i]-15)/27)) # log\n",
    "    else: \n",
    "        aux_freqs[i] = (200.0 / 3) * aux_mels[i] # linear\n",
    "        \n",
    "# CHECK ERROR\n",
    "if (max_mel - aux_max_mel) == 0: print(\"max_mel: SAME\"); \n",
    "else: print(\"max_mel: FALSE by:\")\n",
    "if (np.sum(mels - aux_mels)) == 0: print(\"aux_mels: SAME\"); \n",
    "else: print(\"aux_mels: FALSE by:\", np.sum(mels - aux_mels))\n",
    "if (np.sum(freqs - aux_freqs)) == 0: print(\"aux_freqs: SAME\"); \n",
    "else: print(\"aux_freqs: FALSE by:\", np.sum(freqs - aux_freqs))"
   ]
  }
 ],
 "metadata": {
  "kernelspec": {
   "display_name": "Python 3",
   "language": "python",
   "name": "python3"
  },
  "language_info": {
   "codemirror_mode": {
    "name": "ipython",
    "version": 3
   },
   "file_extension": ".py",
   "mimetype": "text/x-python",
   "name": "python",
   "nbconvert_exporter": "python",
   "pygments_lexer": "ipython3",
   "version": "3.7.7"
  }
 },
 "nbformat": 4,
 "nbformat_minor": 2
}
